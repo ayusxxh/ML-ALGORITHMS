{
 "cells": [
  {
   "cell_type": "code",
   "execution_count": 2,
   "id": "ed7d8c5f",
   "metadata": {},
   "outputs": [],
   "source": [
    "from sklearn import datasets\n",
    "from sklearn.svm import SVC\n",
    "from sklearn.multiclass import OneVsOneClassifier"
   ]
  },
  {
   "cell_type": "code",
   "execution_count": 4,
   "id": "54252ca3",
   "metadata": {},
   "outputs": [],
   "source": [
    "iris = datasets.load_iris()\n",
    "X = iris.data\n",
    "y = iris.target"
   ]
  },
  {
   "cell_type": "code",
   "execution_count": 5,
   "id": "a45f0abe",
   "metadata": {},
   "outputs": [
    {
     "ename": "NameError",
     "evalue": "name 'OneVsRestClassifier' is not defined",
     "output_type": "error",
     "traceback": [
      "\u001b[1;31m---------------------------------------------------------------------------\u001b[0m",
      "\u001b[1;31mNameError\u001b[0m                                 Traceback (most recent call last)",
      "Cell \u001b[1;32mIn[5], line 2\u001b[0m\n\u001b[0;32m      1\u001b[0m svc \u001b[38;5;241m=\u001b[39m SVC()\n\u001b[1;32m----> 2\u001b[0m o_vs_r \u001b[38;5;241m=\u001b[39m OneVsRestClassifier(svc)\n",
      "\u001b[1;31mNameError\u001b[0m: name 'OneVsRestClassifier' is not defined"
     ]
    }
   ],
   "source": [
    "svc = SVC()\n",
    "o_vs_r = OneVsRestClassifier(svc)\n"
   ]
  },
  {
   "cell_type": "code",
   "execution_count": 6,
   "id": "c303dd06",
   "metadata": {},
   "outputs": [
    {
     "ename": "NameError",
     "evalue": "name 'o_vs_r' is not defined",
     "output_type": "error",
     "traceback": [
      "\u001b[1;31m---------------------------------------------------------------------------\u001b[0m",
      "\u001b[1;31mNameError\u001b[0m                                 Traceback (most recent call last)",
      "Cell \u001b[1;32mIn[6], line 1\u001b[0m\n\u001b[1;32m----> 1\u001b[0m o_vs_r\u001b[38;5;241m.\u001b[39mfit(X, y)\n",
      "\u001b[1;31mNameError\u001b[0m: name 'o_vs_r' is not defined"
     ]
    }
   ],
   "source": [
    "o_vs_r.fit(X, y)\n"
   ]
  },
  {
   "cell_type": "code",
   "execution_count": 7,
   "id": "97856bc7",
   "metadata": {},
   "outputs": [
    {
     "ename": "NameError",
     "evalue": "name 'o_vs_r' is not defined",
     "output_type": "error",
     "traceback": [
      "\u001b[1;31m---------------------------------------------------------------------------\u001b[0m",
      "\u001b[1;31mNameError\u001b[0m                                 Traceback (most recent call last)",
      "Cell \u001b[1;32mIn[7], line 1\u001b[0m\n\u001b[1;32m----> 1\u001b[0m yhat \u001b[38;5;241m=\u001b[39m o_vs_r\u001b[38;5;241m.\u001b[39mpredict(X)\n\u001b[0;32m      2\u001b[0m yhat\n",
      "\u001b[1;31mNameError\u001b[0m: name 'o_vs_r' is not defined"
     ]
    }
   ],
   "source": [
    "yhat = o_vs_r.predict(X)\n",
    "yhat\n"
   ]
  },
  {
   "cell_type": "code",
   "execution_count": null,
   "id": "d7afc6bd",
   "metadata": {},
   "outputs": [],
   "source": []
  }
 ],
 "metadata": {
  "kernelspec": {
   "display_name": "Python 3 (ipykernel)",
   "language": "python",
   "name": "python3"
  },
  "language_info": {
   "codemirror_mode": {
    "name": "ipython",
    "version": 3
   },
   "file_extension": ".py",
   "mimetype": "text/x-python",
   "name": "python",
   "nbconvert_exporter": "python",
   "pygments_lexer": "ipython3",
   "version": "3.11.3"
  }
 },
 "nbformat": 4,
 "nbformat_minor": 5
}
